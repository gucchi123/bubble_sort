{
 "cells": [
  {
   "cell_type": "code",
   "execution_count": null,
   "metadata": {
    "collapsed": true
   },
   "outputs": [],
   "source": [
    "x =[3,5,2,4,1]\n",
    "\n",
    "for no_use in range(len(x)):\n",
    "    \n",
    "    i=len(x)-1\n",
    "    for no_use in range(len(x)):\n",
    "        if i>0:\n",
    "            if x[i-1]>x[i]:\n",
    "                x[i-1],x[i] = x[i],x[i-1]\n",
    "            i -= 1\n",
    "print(x)\n",
    "        "
   ]
  }
 ],
 "metadata": {
  "kernelspec": {
   "display_name": "Python 3",
   "language": "python",
   "name": "python3"
  },
  "language_info": {
   "codemirror_mode": {
    "name": "ipython",
    "version": 3
   },
   "file_extension": ".py",
   "mimetype": "text/x-python",
   "name": "python",
   "nbconvert_exporter": "python",
   "pygments_lexer": "ipython3",
   "version": "3.6.0"
  }
 },
 "nbformat": 4,
 "nbformat_minor": 2
}
